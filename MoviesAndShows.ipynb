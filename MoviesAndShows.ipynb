{
 "cells": [
  {
   "cell_type": "code",
   "execution_count": 1,
   "id": "150532f6",
   "metadata": {},
   "outputs": [],
   "source": [
    "import sqlite3\n",
    "import matplotlib.pyplot as plt\n",
    "\n",
    "# უკავშირდება მონაცემთა ბაზას\n",
    "conn = sqlite3.connect(\"movies&shows.db\")\n",
    "cursor = conn.cursor()"
   ]
  },
  {
   "cell_type": "code",
   "execution_count": 2,
   "id": "64a7fd2e",
   "metadata": {},
   "outputs": [],
   "source": [
    "#აჩვენებს პირველ 10 ფილმს ბაზიდან\n",
    "def show_movies():\n",
    "    cursor.execute(\"SELECT title, director, \\\"cast\\\", release_year FROM netflix WHERE type = 'Movie' LIMIT 10;\")\n",
    "    movies = cursor.fetchall()\n",
    "\n",
    "    print(\"\\nMovies:\")\n",
    "    for movie in movies:\n",
    "        title = movie[0] or \"Unknown Title\"\n",
    "        director = movie[1] or \"Unknown Director\"\n",
    "        cast = movie[2] or \"Unknown Cast\"\n",
    "        year = movie[3] or \"Unknown Year\"\n",
    "\n",
    "        print(\"Title:\", title)\n",
    "        print(\"Director:\", director)\n",
    "        print(\"Cast:\", cast)\n",
    "        print(\"Year:\", year)\n",
    "        print(\"------\")"
   ]
  },
  {
   "cell_type": "code",
   "execution_count": 3,
   "id": "23c94ace",
   "metadata": {},
   "outputs": [],
   "source": [
    "#აჩვენებს პირველ 10 სერიალს ბაზიდან\n",
    "def show_tv_shows():\n",
    "    cursor.execute(\"SELECT title, director, \\\"cast\\\", release_year FROM netflix WHERE type = 'TV Show' LIMIT 10;\")\n",
    "    shows = cursor.fetchall()\n",
    "\n",
    "    print(\"\\nTV Shows:\")\n",
    "    for show in shows:\n",
    "        title = show[0] or \"Unknown Title\"\n",
    "        director = show[1] or \"Unknown Director\"\n",
    "        cast = show[2] or \"Unknown Cast\"\n",
    "        year = show[3] or \"Unknown Year\"\n",
    "\n",
    "        print(\"Title:\", title)\n",
    "        print(\"Director:\", director)\n",
    "        print(\"Cast:\", cast)\n",
    "        print(\"Year:\", year)\n",
    "        print(\"------\")"
   ]
  },
  {
   "cell_type": "code",
   "execution_count": 4,
   "id": "4af476df",
   "metadata": {},
   "outputs": [],
   "source": [
    "#ფილტრავს ფილმებს/სერიალებს მითითებული წლის მიხედვით (აჩვენებს 10ს)\n",
    "def filter_by_year():\n",
    "    year = input(\"Enter release year: \")\n",
    "\n",
    "    if not year.isdigit():\n",
    "        print(\"Please enter a valid year.\")\n",
    "        return\n",
    "\n",
    "    cursor.execute(\"SELECT title, type, release_year FROM netflix WHERE release_year = ? LIMIT 10;\", (year,))\n",
    "    results = cursor.fetchall()\n",
    "\n",
    "    if len(results) == 0:\n",
    "        print(\"No shows found for that year.\")\n",
    "    else:\n",
    "        print(\"\\nShows released in\", year)\n",
    "        for show in results:\n",
    "            print(\"Title:\", show[0])\n",
    "            print(\"Type:\", show[1])\n",
    "            print(\"Year:\", show[2])\n",
    "            print(\"------\")"
   ]
  },
  {
   "cell_type": "code",
   "execution_count": 5,
   "id": "7df5141a",
   "metadata": {},
   "outputs": [],
   "source": [
    "#ახალ ფილმს/სერიალს ამატებს ბაზაში\n",
    "def add_new_show():\n",
    "    print(\"\\nEnter new show details:\")\n",
    "    show_type = input(\"Type (Movie or TV Show): \")\n",
    "    title = input(\"Title: \")\n",
    "    director = input(\"Director: \")\n",
    "    country = input(\"Country: \")\n",
    "    year = input(\"Release Year: \")\n",
    "    duration = input(\"Duration: \")\n",
    "\n",
    "    if not year.isdigit():\n",
    "        print(\"Release year must be a number.\")\n",
    "        return\n",
    "\n",
    "    cursor.execute(\"INSERT INTO netflix (type, title, director, country, release_year, duration) VALUES (?, ?, ?, ?, ?, ?)\",\n",
    "                   (show_type, title, director, country, int(year), duration))\n",
    "    conn.commit()\n",
    "    print(\"Show added successfully.\")"
   ]
  },
  {
   "cell_type": "code",
   "execution_count": 6,
   "id": "20b45823",
   "metadata": {},
   "outputs": [],
   "source": [
    "#ფილმს/სერიალს შლის ბაზიდან სათაურის მიხედვით\n",
    "def delete_show():\n",
    "    title = input(\"Enter title to delete:\")\n",
    "    cursor.execute(\"SELECT * FROM netflix WHERE title = ?;\", (title,))\n",
    "    result = cursor.fetchone()\n",
    "\n",
    "    if result:\n",
    "        cursor.execute(\"DELETE FROM netflix WHERE title = ?;\", (title,))\n",
    "        conn.commit()\n",
    "        print(\"Show deleted successfully.\")\n",
    "    else:\n",
    "        print(\"Show not found.\")"
   ]
  },
  {
   "cell_type": "code",
   "execution_count": 7,
   "id": "f9412c58",
   "metadata": {},
   "outputs": [],
   "source": [
    "#აჩვენებს 3 სხვადასხვა ტიპის დიაგრამას მონაცემებზე დაყრდნობით\n",
    "def show_chart():\n",
    "    # ვერტიკალური ზოლის დიაგრამა: ბოლო 10 წელში გამოშვებული ფილმების/სერიალების რაოდენობა\n",
    "    cursor.execute(\"SELECT release_year, COUNT(*) FROM netflix WHERE release_year IS NOT NULL GROUP BY release_year;\")\n",
    "    results = cursor.fetchall()\n",
    "    years = []\n",
    "    counts = []\n",
    "    for row in results[-10:]:\n",
    "        years.append(row[0])\n",
    "        counts.append(row[1])\n",
    "\n",
    "    plt.bar(years, counts, color='skyblue')\n",
    "    plt.title(\"Netflix titles Per Year\")\n",
    "    plt.xlabel(\"Year\")\n",
    "    plt.ylabel(\"Number of titles\")\n",
    "    plt.xticks(rotation=45)\n",
    "    plt.tight_layout()\n",
    "    plt.show()\n",
    "\n",
    "    #წრიული დიაგრამა: ფილმებისა და სერიალების პროცენტული განაწილება\n",
    "    cursor.execute(\"SELECT type, COUNT(*) FROM netflix GROUP BY type;\")\n",
    "    data = cursor.fetchall()\n",
    "    labels = [row[0] for row in data]\n",
    "    sizes = [row[1] for row in data]\n",
    "\n",
    "    plt.pie(sizes, labels=labels, autopct='%1.1f%%', colors=['lightcoral', 'lightskyblue'])\n",
    "    plt.title(\"Movies vs TV Shows\")\n",
    "    plt.axis('equal')\n",
    "    plt.tight_layout()\n",
    "    plt.show()\n",
    "\n",
    "    #ჰორიზონტალური ზოლის დიაგრამა: ტოპ 5 ქვეყანა ფილმების/სერიალების მიხედვით\n",
    "    cursor.execute(\"SELECT country, COUNT(*) FROM netflix WHERE country IS NOT NULL GROUP BY country ORDER BY COUNT(*) DESC LIMIT 5;\")\n",
    "    top_countries = cursor.fetchall()\n",
    "    countries = [row[0] for row in top_countries]\n",
    "    show_counts = [row[1] for row in top_countries]\n",
    "\n",
    "    plt.barh(countries, show_counts, color='mediumseagreen')\n",
    "    plt.title(\"Top 5 Countries with Most Netflix titles\")\n",
    "    plt.xlabel(\"Number of titles\")\n",
    "    plt.ylabel(\"Country\")\n",
    "    plt.tight_layout()\n",
    "    plt.show()"
   ]
  },
  {
   "cell_type": "code",
   "execution_count": 8,
   "id": "70491341",
   "metadata": {},
   "outputs": [
    {
     "name": "stdout",
     "output_type": "stream",
     "text": [
      "\n",
      "Movies:\n",
      "Title: Dick Johnson Is Dead\n",
      "Director: Kirsten Johnson\n",
      "Cast: Unknown Cast\n",
      "Year: 2020\n",
      "------\n",
      "Title: My Little Pony: A New Generation\n",
      "Director: Robert Cullen, José Luis Ucha\n",
      "Cast: Vanessa Hudgens, Kimiko Glenn, James Marsden, Sofia Carson, Liza Koshy, Ken Jeong, Elizabeth Perkins, Jane Krakowski, Michael McKean, Phil LaMarr\n",
      "Year: 2021\n",
      "------\n",
      "Title: Sankofa\n",
      "Director: Haile Gerima\n",
      "Cast: Kofi Ghanaba, Oyafunmike Ogunlano, Alexandra Duah, Nick Medley, Mutabaruka, Afemo Omilami, Reggie Carter, Mzuri\n",
      "Year: 1993\n",
      "------\n",
      "Title: The Starling\n",
      "Director: Theodore Melfi\n",
      "Cast: Melissa McCarthy, Chris O'Dowd, Kevin Kline, Timothy Olyphant, Daveed Diggs, Skyler Gisondo, Laura Harrier, Rosalind Chao, Kimberly Quinn, Loretta Devine, Ravi Kapoor\n",
      "Year: 2021\n",
      "------\n",
      "Title: Je Suis Karl\n",
      "Director: Christian Schwochow\n",
      "Cast: Luna Wedler, Jannis Niewöhner, Milan Peschel, Edin Hasanović, Anna Fialová, Marlon Boess, Victor Boccard, Fleur Geffrier, Aziz Dyab, Mélanie Fouché, Elizaveta Maximová\n",
      "Year: 2021\n",
      "------\n",
      "Title: Confessions of an Invisible Girl\n",
      "Director: Bruno Garotti\n",
      "Cast: Klara Castanho, Lucca Picon, Júlia Gomes, Marcus Bessa, Kiria Malheiros, Fernanda Concon, Gabriel Lima, Caio Cabral, Leonardo Cidade, Jade Cardozo\n",
      "Year: 2021\n",
      "------\n",
      "Title: Europe's Most Dangerous Man: Otto Skorzeny in Spain\n",
      "Director: Pedro de Echave García, Pablo Azorín Williams\n",
      "Cast: Unknown Cast\n",
      "Year: 2020\n",
      "------\n",
      "Title: Intrusion\n",
      "Director: Adam Salky\n",
      "Cast: Freida Pinto, Logan Marshall-Green, Robert John Burke, Megan Elisabeth Kelly, Sarah Minnich, Hayes Hargrove, Mark Sivertsen, Brandon Fierro, Antonio Valles, Clint Obenchain\n",
      "Year: 2021\n",
      "------\n",
      "Title: Avvai Shanmughi\n",
      "Director: K.S. Ravikumar\n",
      "Cast: Kamal Hassan, Meena, Gemini Ganesan, Heera Rajgopal, Nassar, S.P. Balasubrahmanyam\n",
      "Year: 1996\n",
      "------\n",
      "Title: Go! Go! Cory Carson: Chrissy Takes the Wheel\n",
      "Director: Alex Woo, Stanley Moore\n",
      "Cast: Maisie Benson, Paul Killam, Kerry Gudjohnsen, AC Lim\n",
      "Year: 2021\n",
      "------\n"
     ]
    }
   ],
   "source": [
    "show_movies()"
   ]
  },
  {
   "cell_type": "code",
   "execution_count": 9,
   "id": "48170e48",
   "metadata": {},
   "outputs": [
    {
     "name": "stdout",
     "output_type": "stream",
     "text": [
      "\n",
      "TV Shows:\n",
      "Title: Blood & Water\n",
      "Director: Unknown Director\n",
      "Cast: Ama Qamata, Khosi Ngema, Gail Mabalane, Thabang Molaba, Dillon Windvogel, Natasha Thahane, Arno Greeff, Xolile Tshabalala, Getmore Sithole, Cindy Mahlangu, Ryle De Morny, Greteli Fincham, Sello Maake Ka-Ncube, Odwa Gwanya, Mekaila Mathys, Sandi Schultz, Duane Williams, Shamilla Miller, Patrick Mofokeng\n",
      "Year: 2021\n",
      "------\n",
      "Title: Ganglands\n",
      "Director: Julien Leclercq\n",
      "Cast: Sami Bouajila, Tracy Gotoas, Samuel Jouy, Nabiha Akkari, Sofia Lesaffre, Salim Kechiouche, Noureddine Farihi, Geert Van Rampelberg, Bakary Diombera\n",
      "Year: 2021\n",
      "------\n",
      "Title: Jailbirds New Orleans\n",
      "Director: Unknown Director\n",
      "Cast: Unknown Cast\n",
      "Year: 2021\n",
      "------\n",
      "Title: Kota Factory\n",
      "Director: Unknown Director\n",
      "Cast: Mayur More, Jitendra Kumar, Ranjan Raj, Alam Khan, Ahsaas Channa, Revathi Pillai, Urvi Singh, Arun Kumar\n",
      "Year: 2021\n",
      "------\n",
      "Title: Midnight Mass\n",
      "Director: Mike Flanagan\n",
      "Cast: Kate Siegel, Zach Gilford, Hamish Linklater, Henry Thomas, Kristin Lehman, Samantha Sloyan, Igby Rigney, Rahul Kohli, Annarah Cymone, Annabeth Gish, Alex Essoe, Rahul Abburi, Matt Biedel, Michael Trucco, Crystal Balint, Louis Oliver\n",
      "Year: 2021\n",
      "------\n",
      "Title: The Great British Baking Show\n",
      "Director: Andy Devonshire\n",
      "Cast: Mel Giedroyc, Sue Perkins, Mary Berry, Paul Hollywood\n",
      "Year: 2021\n",
      "------\n",
      "Title: Vendetta: Truth, Lies and The Mafia\n",
      "Director: Unknown Director\n",
      "Cast: Unknown Cast\n",
      "Year: 2021\n",
      "------\n",
      "Title: Bangkok Breaking\n",
      "Director: Kongkiat Komesiri\n",
      "Cast: Sukollawat Kanarot, Sushar Manaying, Pavarit Mongkolpisit, Sahajak Boonthanakit, Suthipongse Thatphithakkul, Bhasaworn Bawronkirati, Daweerit Chullasapya, Waratthaya Wongchayaporn, Kittiphoom Wongpentak, Abhicha Thanachanun, Nophand Boonyai, Kittipong Khamsat, Arisara Wongchalee, Jaytiya Naiwattanakul, Pantipa Arunwattanachai, Panupan Jantanawong, Kungtap Saelim, Phumphat Chartsuriyakiat, Issara Veranitinunt, Keerati Sivakuae, Panjai Sirisuwan, Supranee Charoenpol, Suda Chuenban, Visaka Banhansupavat, Pitchatorn Santinatornkul\n",
      "Year: 2021\n",
      "------\n",
      "Title: Crime Stories: India Detectives\n",
      "Director: Unknown Director\n",
      "Cast: Unknown Cast\n",
      "Year: 2021\n",
      "------\n",
      "Title: Dear White People\n",
      "Director: Unknown Director\n",
      "Cast: Logan Browning, Brandon P. Bell, DeRon Horton, Antoinette Robertson, John Patrick Amedori, Ashley Blaine Featherson, Marque Richardson, Giancarlo Esposito\n",
      "Year: 2021\n",
      "------\n"
     ]
    }
   ],
   "source": [
    "show_tv_shows()"
   ]
  },
  {
   "cell_type": "code",
   "execution_count": 10,
   "id": "ee2d98d5",
   "metadata": {},
   "outputs": [
    {
     "name": "stdin",
     "output_type": "stream",
     "text": [
      "Enter release year:  2019\n"
     ]
    },
    {
     "name": "stdout",
     "output_type": "stream",
     "text": [
      "\n",
      "Shows released in 2019\n",
      "Title: Titipo Titipo\n",
      "Type: TV Show\n",
      "Year: 2019\n",
      "------\n",
      "Title: Paradise Hills\n",
      "Type: Movie\n",
      "Year: 2019\n",
      "------\n",
      "Title: Tobot Galaxy Detectives\n",
      "Type: TV Show\n",
      "Year: 2019\n",
      "------\n",
      "Title: Hotel Del Luna\n",
      "Type: TV Show\n",
      "Year: 2019\n",
      "------\n",
      "Title: Oldsters\n",
      "Type: TV Show\n",
      "Year: 2019\n",
      "------\n",
      "Title: Wheel of Fortune\n",
      "Type: TV Show\n",
      "Year: 2019\n",
      "------\n",
      "Title: The Crowned Clown\n",
      "Type: TV Show\n",
      "Year: 2019\n",
      "------\n",
      "Title: Five Feet Apart\n",
      "Type: Movie\n",
      "Year: 2019\n",
      "------\n",
      "Title: Poms\n",
      "Type: Movie\n",
      "Year: 2019\n",
      "------\n",
      "Title: Fantastic Fungi\n",
      "Type: Movie\n",
      "Year: 2019\n",
      "------\n"
     ]
    }
   ],
   "source": [
    "filter_by_year()"
   ]
  },
  {
   "cell_type": "code",
   "execution_count": 11,
   "id": "51e69078",
   "metadata": {},
   "outputs": [
    {
     "name": "stdout",
     "output_type": "stream",
     "text": [
      "\n",
      "Enter new show details:\n"
     ]
    },
    {
     "name": "stdin",
     "output_type": "stream",
     "text": [
      "Type (Movie or TV Show):  Movie\n",
      "Title:  Test Movie\n",
      "Director:  John Human\n",
      "Country:  USA\n",
      "Release Year:  2018\n",
      "Duration:  2h\n"
     ]
    },
    {
     "name": "stdout",
     "output_type": "stream",
     "text": [
      "Show added successfully.\n"
     ]
    }
   ],
   "source": [
    "add_new_show()"
   ]
  },
  {
   "cell_type": "code",
   "execution_count": 12,
   "id": "d3d668d6",
   "metadata": {},
   "outputs": [
    {
     "name": "stdin",
     "output_type": "stream",
     "text": [
      "Enter title to delete: Test Movie\n"
     ]
    },
    {
     "name": "stdout",
     "output_type": "stream",
     "text": [
      "Show deleted successfully.\n"
     ]
    }
   ],
   "source": [
    "delete_show()"
   ]
  },
  {
   "cell_type": "code",
   "execution_count": 13,
   "id": "8c45b155",
   "metadata": {},
   "outputs": [
    {
     "data": {
      "image/png": "[encoded data removed]",
      "text/plain": [
       "<Figure size 640x480 with 1 Axes>"
      ]
     },
     "metadata": {},
     "output_type": "display_data"
    },
    {
     "data": {
      "image/png": "[encoded data removed]",
      "text/plain": [
       "<Figure size 640x480 with 1 Axes>"
      ]
     },
     "metadata": {},
     "output_type": "display_data"
    },
    {
     "data": {
      "image/png": "[encoded data removed]",
      "text/plain": [
       "<Figure size 640x480 with 1 Axes>"
      ]
     },
     "metadata": {},
     "output_type": "display_data"
    }
   ],
   "source": [
    "show_chart()"
   ]
  },
  {
   "cell_type": "code",
   "execution_count": 14,
   "id": "610e05be",
   "metadata": {},
   "outputs": [],
   "source": [
    "conn.close()  # ბაზის კავშირის დახურვა სამუშაოს ბოლოს"
   ]
  },
  {
   "cell_type": "code",
   "execution_count": null,
   "id": "b89b32da-c9b1-4d36-9d6c-1517f20b2290",
   "metadata": {},
   "outputs": [],
   "source": []
  }
 ],
 "metadata": {
  "kernelspec": {
   "display_name": "Python 3 (ipykernel)",
   "language": "python",
   "name": "python3"
  },
  "language_info": {
   "codemirror_mode": {
    "name": "ipython",
    "version": 3
   },
   "file_extension": ".py",
   "mimetype": "text/x-python",
   "name": "python",
   "nbconvert_exporter": "python",
   "pygments_lexer": "ipython3",
   "version": "3.12.3"
  }
 },
 "nbformat": 4,
 "nbformat_minor": 5
}
